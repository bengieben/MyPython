{
 "cells": [
  {
   "cell_type": "code",
   "execution_count": 25,
   "metadata": {},
   "outputs": [
    {
     "name": "stdout",
     "output_type": "stream",
     "text": [
      "ชื่อพนังงาน : bermn' \n",
      "เงินเดือน : 300000.00 \n",
      "ค่าล่วงเวลา : 50.00 \n",
      "รวม :   7500.0\n"
     ]
    }
   ],
   "source": [
    "def Overtime(employee , salary ,OT):\n",
    "    \n",
    "    if (OT >= 40): \n",
    "        salary = OT*150\n",
    "    else:\n",
    "        salary = OT*100\n",
    "\n",
    "    return salary\n",
    "\n",
    "employee = input(\"ชื่อพนังงาน : %s \")\n",
    "salary =  float(input(\"เงินเดือน : %.2f \"))\n",
    "overtime_pay = float(input(\"ค่าล่วงเวลา : %.2f \"))\n",
    "\n",
    "total = Overtime (employee,salary,overtime_pay)\n",
    "\n",
    "print(\"ชื่อพนังงาน : %s \" %(employee))\n",
    "print(\"เงินเดือน : %.2f \" %(salary))\n",
    "print(\"ค่าล่วงเวลา : %.2f \" %(overtime_pay))\n",
    "print(\"รวม :  \" ,total)"
   ]
  }
 ],
 "metadata": {
  "kernelspec": {
   "display_name": "Python 3",
   "language": "python",
   "name": "python3"
  },
  "language_info": {
   "codemirror_mode": {
    "name": "ipython",
    "version": 3
   },
   "file_extension": ".py",
   "mimetype": "text/x-python",
   "name": "python",
   "nbconvert_exporter": "python",
   "pygments_lexer": "ipython3",
   "version": "3.12.4"
  }
 },
 "nbformat": 4,
 "nbformat_minor": 2
}
